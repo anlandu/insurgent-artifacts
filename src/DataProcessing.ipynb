{
 "cells": [
  {
   "cell_type": "markdown",
   "metadata": {},
   "source": [
    "## Opening file"
   ]
  },
  {
   "cell_type": "code",
   "execution_count": 12,
   "metadata": {},
   "outputs": [],
   "source": [
    "import re\n",
    "import pandas as pd\n",
    "import numpy as np\n",
    "import json\n",
    "import os\n",
    "import math\n"
   ]
  },
  {
   "cell_type": "code",
   "execution_count": 32,
   "metadata": {},
   "outputs": [],
   "source": [
    "os.chdir(\"../data/\")\n",
    "df=pd.read_csv(\"Satellite Data.csv\")\n",
    "df.rename(columns={'Id':'id','Ti':'ti','CC':'cc','AA':'aa'}, inplace=True)\n",
    "linksdf=pd.DataFrame()\n",
    "i=0\n",
    "for refs in df['RId']:\n",
    "    if pd.isnull(refs):\n",
    "        i+=1\n",
    "        continue\n",
    "    for ref in refs.split(','):\n",
    "        ref=int(ref)\n",
    "        if ref in df.id.values:\n",
    "            linksdf=linksdf.append({'source': str(df['id'][i]), 'target':str(ref)}, ignore_index=True)\n",
    "    i+=1\n",
    "linksdf.to_csv('PaperLinks.csv',index=False)"
   ]
  },
  {
   "cell_type": "code",
   "execution_count": 33,
   "metadata": {},
   "outputs": [],
   "source": [
    "def get_names(string):\n",
    "    return re.findall('(?<=|)([A-Za-z ]+)(?=|)', string)\n",
    "def get_nums(string):\n",
    "    return re.findall('(?<=|)([0-9]{2,})(?=|)', string)\n",
    "df['aanames']=df['aa'].apply(get_names)\n",
    "df['aanums']=df['aa'].apply(get_nums)\n",
    "df.to_csv('PaperPoints.csv',columns=['id', 'ti', 'cc', 'aanames', 'aanums'], index=False)\n"
   ]
  },
  {
   "cell_type": "code",
   "execution_count": null,
   "metadata": {},
   "outputs": [],
   "source": []
  }
 ],
 "metadata": {
  "kernelspec": {
   "display_name": "Python 3",
   "language": "python",
   "name": "python3"
  },
  "language_info": {
   "codemirror_mode": {
    "name": "ipython",
    "version": 3
   },
   "file_extension": ".py",
   "mimetype": "text/x-python",
   "name": "python",
   "nbconvert_exporter": "python",
   "pygments_lexer": "ipython3",
   "version": "3.6.4"
  }
 },
 "nbformat": 4,
 "nbformat_minor": 2
}
