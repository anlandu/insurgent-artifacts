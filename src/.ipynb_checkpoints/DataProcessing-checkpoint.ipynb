{
 "cells": [
  {
   "cell_type": "markdown",
   "metadata": {},
   "source": [
    "## Opening file"
   ]
  },
  {
   "cell_type": "code",
   "execution_count": 2,
   "metadata": {},
   "outputs": [],
   "source": [
    "import re\n",
    "import pandas as pd\n",
    "import numpy as np\n",
    "import json\n",
    "import os\n",
    "import math\n"
   ]
  },
  {
   "cell_type": "code",
   "execution_count": 119,
   "metadata": {},
   "outputs": [],
   "source": [
    "os.chdir(\"../data/\")\n",
    "df=pd.read_csv(\"Satellite Data.csv\")\n",
    "df.rename(columns={'Id':'id','Ti':'ti','CC':'cc','AA':'aa'}, inplace=True)\n"
   ]
  },
  {
   "cell_type": "code",
   "execution_count": 120,
   "metadata": {},
   "outputs": [],
   "source": [
    "def get_names(string):\n",
    "    return re.findall('(?<=|)([A-Za-z ]+)(?=|)', string)\n",
    "def get_nums(string):\n",
    "    return re.findall('(?<=|)([0-9]{4,})(?=|)', string)\n",
    "df['aanames']=df['aa'].apply(get_names)\n",
    "df['aanums']=df['aa'].apply(get_nums)\n"
   ]
  },
  {
   "cell_type": "code",
   "execution_count": 121,
   "metadata": {},
   "outputs": [],
   "source": [
    "#Print CSV of selected columns in paper data\n",
    "df.to_csv('PaperPoints.csv',columns=['id', 'ti', 'cc', 'aanames', 'aanums'], index=False)"
   ]
  },
  {
   "cell_type": "code",
   "execution_count": 123,
   "metadata": {},
   "outputs": [],
   "source": [
    "audf=pd.DataFrame()\n",
    "audf=audf.reindex(columns=['name','num','citations','numpapers'])\n",
    "for i in range(0, len(df.index)):\n",
    "    numarr=df['aanums'][i]\n",
    "    namarr=df['aanames'][i]\n",
    "    for j in range(0, len(numarr)):\n",
    "#         print(numarr[j])\n",
    "        if int(numarr[j]) not in audf.num.values:\n",
    "            audf=audf.append({'name':namarr[j], 'num':int(numarr[j]), 'citations':int(df['cc'][i]), 'numpapers':1}, ignore_index=True)\n",
    "        else:\n",
    "            audf.loc[audf['num']==int(numarr[j]), 'citations']+=int(df['cc'][i])\n",
    "            audf.loc[audf['num']==int(numarr[j]), 'numpapers']+=1\n",
    "audf.to_csv('Authors.csv')"
   ]
  },
  {
   "cell_type": "code",
   "execution_count": 149,
   "metadata": {},
   "outputs": [],
   "source": [
    "linksdf=pd.DataFrame()\n",
    "aulinksdf=pd.DataFrame()\n",
    "aulinksdf=aulinksdf.reindex(columns=['source','target','mag'])\n",
    "for row in df.itertuples():\n",
    "    #If this paper did not cite other papers, move on\n",
    "    if pd.isnull(row.RId):\n",
    "        continue\n",
    "#     For each cited paper, get paper ID\n",
    "    for ref in row.RId.split(','):\n",
    "        ref=int(ref)\n",
    "        #If cited paper is in existing database of papers, add the link to the list of links\n",
    "        if ref in df.id.values:\n",
    "            linksdf=linksdf.append({'source': str(row.id), 'target':str(ref)}, ignore_index=True)\n",
    "\n",
    "            #For each author of the citing paper, connect to each paper they cited\n",
    "            for src in row.aanums:\n",
    "                #Print all authors of the paper they cited\n",
    "                trgarr=df.loc[df['id']==int(ref)]['aanums'].values[0]\n",
    "                for trg in trgarr:\n",
    "                    if (len(aulinksdf.loc[(aulinksdf['source']==int(src))&(aulinksdf['target']==int(trg))])>0):\n",
    "                        aulinksdf.loc[(aulinksdf['source']==int(src))&(aulinksdf['target']==int(trg)), 'mag']+=1\n",
    "                    else:\n",
    "                        aulinksdf=aulinksdf.append({'source':int(src), 'target':int(trg), 'mag':1},ignore_index=True)\n",
    "linksdf.to_csv('PaperLinks.csv',index=False)\n",
    "aulinksdf.to_csv('AuthorLinks.csv',index=False)"
   ]
  },
  {
   "cell_type": "code",
   "execution_count": 153,
   "metadata": {},
   "outputs": [],
   "source": [
    "audf=audf.loc[audf['citations']>20]\n",
    "audf.to_csv('Authors.csv',index=False)"
   ]
  },
  {
   "cell_type": "code",
   "execution_count": null,
   "metadata": {},
   "outputs": [],
   "source": []
  }
 ],
 "metadata": {
  "kernelspec": {
   "display_name": "Python 3",
   "language": "python",
   "name": "python3"
  },
  "language_info": {
   "codemirror_mode": {
    "name": "ipython",
    "version": 3
   },
   "file_extension": ".py",
   "mimetype": "text/x-python",
   "name": "python",
   "nbconvert_exporter": "python",
   "pygments_lexer": "ipython3",
   "version": "3.6.4"
  }
 },
 "nbformat": 4,
 "nbformat_minor": 2
}
