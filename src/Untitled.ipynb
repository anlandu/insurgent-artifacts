{
 "cells": [
  {
   "cell_type": "markdown",
   "metadata": {},
   "source": [
    "## Opening file"
   ]
  },
  {
   "cell_type": "code",
   "execution_count": 33,
   "metadata": {},
   "outputs": [
    {
     "name": "stdout",
     "output_type": "stream",
     "text": [
      " \n",
      "010. Comparative Analyses of Corporate Corruption and State Crime \n",
      "8:00 to 9:20am Grand Ballroom B, 1st Level \n",
      "Corruption in China and the United States: A Comparative Criminological Analysis; Henry Pontell, John Jay College of Criminal Justice; Adam Kavon Ghazi-Tehrani, University of Alabama \n",
      "State Legitimacy and Government Crime: The China-Japan Rare Earth Element Case; Adam Kavon Ghazi-Tehrani, University of Alabama; Henry Pontell, John Jay College of Criminal Justice \n",
      "Fraud and Corruption Kill and Maim; William Black, University of Missouri -Kansas City \n",
      "Discussants: Henry Pontell, John Jay College of Criminal Justice Michael L. Benson, University of Cincinnati \n",
      "011. Mental Health and Competency Issues in \n",
      "\n",
      "\n"
     ]
    }
   ],
   "source": [
    "import re\n",
    "os.chdir(\"../data/\")\n",
    "f=open(\"ASC 2016.txt\", \"r\")\n",
    "contents=f.read().strip()\n",
    "contents=contents.replace(\"Thematic Session\", \"SESSION\")\n",
    "sessions=contents.split(\"SESSION\")\n",
    "authors=[]\n",
    "for i in sessions:\n",
    "    i.strip()\n",
    "    \n",
    "print(sessions[1])"
   ]
  },
  {
   "cell_type": "code",
   "execution_count": null,
   "metadata": {},
   "outputs": [],
   "source": []
  }
 ],
 "metadata": {
  "kernelspec": {
   "display_name": "Python 3",
   "language": "python",
   "name": "python3"
  },
  "language_info": {
   "codemirror_mode": {
    "name": "ipython",
    "version": 3
   },
   "file_extension": ".py",
   "mimetype": "text/x-python",
   "name": "python",
   "nbconvert_exporter": "python",
   "pygments_lexer": "ipython3",
   "version": "3.6.4"
  }
 },
 "nbformat": 4,
 "nbformat_minor": 2
}
